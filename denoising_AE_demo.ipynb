{
  "nbformat": 4,
  "nbformat_minor": 0,
  "metadata": {
    "colab": {
      "name": "fashion_autoencoder.ipynb",
      "provenance": []
    },
    "kernelspec": {
      "name": "python3",
      "display_name": "Python 3"
    },
    "language_info": {
      "name": "python"
    },
    "accelerator": "GPU"
  },
  "cells": [
    {
      "cell_type": "code",
      "metadata": {
        "id": "5usSz5jro4uV"
      },
      "source": [
        "%matplotlib notebook\n",
        "\n",
        "import torch\n",
        "from torch import nn\n",
        "from torch.utils.data import DataLoader\n",
        "from torchvision import datasets\n",
        "from torchvision.transforms import ToTensor, Lambda, Compose\n",
        "import matplotlib.pyplot as plt\n",
        "import numpy as np"
      ],
      "execution_count": null,
      "outputs": []
    },
    {
      "cell_type": "code",
      "metadata": {
        "id": "DFM-MnTepoiG"
      },
      "source": [
        "device = \"cuda\" if torch.cuda.is_available() else \"cpu\""
      ],
      "execution_count": null,
      "outputs": []
    },
    {
      "cell_type": "code",
      "metadata": {
        "id": "TaJG3BYSpFus"
      },
      "source": [
        "# Download training data from open datasets.\n",
        "training_data = datasets.FashionMNIST(\n",
        "    root=\"data\",\n",
        "    train=True,\n",
        "    download=True,\n",
        "    transform=ToTensor(),\n",
        ")\n",
        "\n",
        "# Download test data from open datasets.\n",
        "test_data = datasets.FashionMNIST(\n",
        "    root=\"data\",\n",
        "    train=False,\n",
        "    download=True,\n",
        "    transform=ToTensor(),\n",
        ")"
      ],
      "execution_count": null,
      "outputs": []
    },
    {
      "cell_type": "code",
      "metadata": {
        "id": "pevBkZmQpKmb"
      },
      "source": [
        "batch_size = 64\n",
        "\n",
        "# Create data loaders.\n",
        "train_dataloader = DataLoader(training_data, batch_size=batch_size)\n",
        "test_dataloader = DataLoader(test_data, batch_size=batch_size)\n",
        "\n",
        "for X, y in test_dataloader:\n",
        "    print(\"Shape of X [N, C, H, W]: \", X.shape)\n",
        "    print(\"Shape of y: \", y.shape, y.dtype)\n",
        "    break"
      ],
      "execution_count": null,
      "outputs": []
    },
    {
      "cell_type": "code",
      "metadata": {
        "id": "QTh-J120pNt3"
      },
      "source": [
        "# Randomly drops values in a tensor to zero with probability p\n",
        "def drop_data(data, p, device):\n",
        "    return (torch.rand(data.shape) < (1-p)).to(device).int() * data"
      ],
      "execution_count": null,
      "outputs": []
    },
    {
      "cell_type": "code",
      "metadata": {
        "id": "FbifkN_LpQDV"
      },
      "source": [
        "# A small denoising autoencoder model with 0.25 of input data dropped\n",
        "class DenoisingAE(nn.Module):\n",
        "    def __init__(self):\n",
        "        super(DenoisingAE, self).__init__()\n",
        "        self.flatten = nn.Flatten()\n",
        "        self.add_noise = drop_data\n",
        "        self.encode = nn.Sequential(\n",
        "            nn.Linear(28*28, 250),\n",
        "            nn.ReLU(),\n",
        "            nn.Linear(250, 50),\n",
        "            nn.ReLU(),\n",
        "            nn.Linear(50, 3),\n",
        "        )\n",
        "        self.decode = nn.Sequential(\n",
        "            nn.Linear(3, 50),\n",
        "            nn.ReLU(),\n",
        "            nn.Linear(50, 250),\n",
        "            nn.ReLU(),\n",
        "            nn.Linear(250, 28*28)\n",
        "        )\n",
        "        \n",
        "    def forward(self, x):\n",
        "        x = self.flatten(x)\n",
        "        x = self.add_noise(x, 0.25, device)\n",
        "        x = self.encode(x)\n",
        "        x = self.decode(x)\n",
        "        return x\n",
        "    "
      ],
      "execution_count": null,
      "outputs": []
    },
    {
      "cell_type": "code",
      "metadata": {
        "id": "w55XYB6fpRKX"
      },
      "source": [
        "# Set device, loss function, and optimizer\n",
        "device = \"cuda\" if torch.cuda.is_available() else \"cpu\"\n",
        "model = DenoisingAE().to(device)\n",
        "loss_fn = nn.MSELoss()\n",
        "optimizer = torch.optim.Adam(model.parameters(), lr = 1e-3, weight_decay=1e-5)"
      ],
      "execution_count": null,
      "outputs": []
    },
    {
      "cell_type": "code",
      "metadata": {
        "id": "zX-mm7GdpXBK"
      },
      "source": [
        "# Train model for one epoch\n",
        "def train(dataloader, model, loss_fn, optimizer):\n",
        "    size = len(dataloader.dataset)\n",
        "    for batch, (X, y) in enumerate(dataloader):\n",
        "        X = X.to(device)\n",
        "\n",
        "        # Compute prediction error\n",
        "        pred = model(X)\n",
        "        loss = loss_fn(torch.reshape(pred, (X.shape[0], 1, 28, 28)), X)\n",
        "\n",
        "        # Backpropagation\n",
        "        optimizer.zero_grad()\n",
        "        loss.backward()\n",
        "        optimizer.step()\n",
        "\n",
        "        # if batch % 100 == 0:\n",
        "        #     loss, current = loss.item(), batch * len(X)\n",
        "        #     print(f\"loss: {loss:>7f}  [{current:>5d}/{size:>5d}]\")"
      ],
      "execution_count": null,
      "outputs": []
    },
    {
      "cell_type": "code",
      "metadata": {
        "id": "lUwvrq1vpayZ"
      },
      "source": [
        "# Evaluate model accuracy on one batch\n",
        "def test(dataloader, model, loss_fn):\n",
        "    size = len(dataloader.dataset)\n",
        "    num_batches = len(dataloader)\n",
        "    model.eval()\n",
        "    test_loss = 0\n",
        "    with torch.no_grad():\n",
        "        for X, y in dataloader:\n",
        "            X = X.to(device)\n",
        "            pred = model(X)\n",
        "            test_loss += loss_fn(torch.reshape(pred, (X.shape[0], 1, 28, 28)), X).item()\n",
        "    test_loss /= num_batches\n",
        "    print(f\"Avg loss: {test_loss:>8f} \\n\")"
      ],
      "execution_count": null,
      "outputs": []
    },
    {
      "cell_type": "code",
      "metadata": {
        "id": "8CyMVwbdpdJB"
      },
      "source": [
        "# Train model and output losses for 50 epochs\n",
        "epochs = 50\n",
        "for t in range(epochs):\n",
        "    print(f\"Epoch {t+1}\")\n",
        "    train(train_dataloader, model, loss_fn, optimizer)\n",
        "    test(test_dataloader, model, loss_fn)\n",
        "print(\"Done!\")"
      ],
      "execution_count": null,
      "outputs": []
    },
    {
      "cell_type": "code",
      "metadata": {
        "id": "2hmCZJlJpfLx"
      },
      "source": [
        "# Display a random image from test data and its reconstruction\n",
        "image = test_data[np.random.randint(len(test_data))][0]\n",
        "plt.imshow(torch.reshape(image, (28, 28)))\n",
        "plt.show()\n",
        "output = torch.reshape(model(image.to(device)), (28, 28))\n",
        "plt.imshow(output.detach().cpu())\n",
        "plt.show()"
      ],
      "execution_count": null,
      "outputs": []
    },
    {
      "cell_type": "code",
      "metadata": {
        "id": "j23jjGcLsDO-"
      },
      "source": [
        "with torch.no_grad():\n",
        "  encodings = []\n",
        "  classes = []\n",
        "  for image, obj in test_data: \n",
        "    encodings.append(model.encode(torch.reshape(image, (28 * 28,)).to(device)).cpu().numpy())\n",
        "    classes.append(obj)\n",
        "encodings = np.array(encodings)\n",
        "clothing = {0: \"tee/top\",\n",
        "            1: \"trouser\",\n",
        "            2: \"pullover\",\n",
        "            3: \"dress\",\n",
        "            4: \"coat\",\n",
        "            5: \"sandal\",\n",
        "            6: \"shirt\",\n",
        "            7: \"sneaker\",\n",
        "            8: \"bag\",\n",
        "            9: \"ankle boot\"}\n",
        "classes = [clothing[i] for i in classes]"
      ],
      "execution_count": null,
      "outputs": []
    },
    {
      "cell_type": "code",
      "metadata": {
        "id": "ayim5bASBihs"
      },
      "source": [
        "import plotly.express as px\n",
        "import pandas as pd\n",
        "fig = px.scatter_3d(x=encodings[:, 0], y=encodings[:, 1], z=encodings[:, 2], color=classes)\n",
        "fig.show()"
      ],
      "execution_count": null,
      "outputs": []
    }
  ]
}